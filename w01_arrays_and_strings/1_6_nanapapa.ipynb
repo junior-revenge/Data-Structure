{
  "nbformat": 4,
  "nbformat_minor": 0,
  "metadata": {
    "colab": {
      "provenance": []
    },
    "kernelspec": {
      "name": "python3",
      "display_name": "Python 3"
    },
    "language_info": {
      "name": "python"
    }
  },
  "cells": [
    {
      "cell_type": "markdown",
      "source": [
        "#Problem 1.6 – String Compression (Cracking the Coding Interview)\n",
        "\n",
        "## Problem Statement\n",
        "\n",
        "Implement a method to perform basic **string compression** using the counts of repeated characters.  \n",
        "For example, the string `\"aabcccccaaa\"` would become `\"a2b1c5a3\"`.\n",
        "\n",
        "If the compressed string would **not be smaller** than the original, return the **original string**.\n",
        "\n",
        "> You can assume the string has only uppercase and lowercase letters (a-z, A-Z).\n",
        "\n",
        "---\n",
        "\n",
        "## Interviewer Clarification Questions\n",
        "\n",
        "1. Should the compression apply only to consecutive repeated characters?\n",
        "   → Just confirming: \"aaabbbccc\" becomes \"a3b3c3\", but \"abcabc\" stays \"a1b1c1a1b1c1\", right? Or is it only compressing consecutive runs?\n",
        "\n",
        "2. Can the input string be empty or just one character?\n",
        "   → Is \"\" → \"0\" or blank?\n",
        "      Is \"a\" → \"a1\" or \"a\"?\n",
        "\n",
        "\n",
        "3. Are we allowed to use extra data structure to build the compressed string?\n",
        "   → This helps clarify whether we can use a list or StringBuilder-like structure.\n",
        "\n",
        "---\n",
        "\n",
        "##  Assumptions\n",
        "\n",
        "- The string may be empty.\n",
        "- Characters are counted **only when they are consecutive**.\n",
        "- We will use a helper data structure (list) to build the result.\n",
        "\n",
        "\n",
        "---\n",
        "\n",
        "## Examples\n",
        "\n",
        "| Input           | Output        | Explanation                       |\n",
        "|----------------|---------------|-----------------------------------|\n",
        "| `\"aabcccccaaa\"` | `\"a2b1c5a3\"`  | `\"a\"` 2 times, `\"b\"` 1, `\"c\"` 5... |\n",
        "| `\"abc\"`         | `\"abc\"`       | `\"a1b1c1\"` is longer than input   |\n",
        "| `\"aabbcc\"`      | `\"a2b2c2\"`    | Compressed is same length → return it |\n",
        "| `\"a\"`           | `\"a\"`         | `\"a1\"` is longer → return `\"a\"`   |\n",
        "| `\"\"`            | `\"\"`          | empty string → return empty |\n",
        "\n",
        "\n",
        "---\n"
      ],
      "metadata": {
        "id": "npWTnDNTnnOG"
      }
    },
    {
      "cell_type": "code",
      "source": [
        "#1. Brute Force\n",
        "\n",
        "def compress_string_naive(s):\n",
        "    if not s:\n",
        "        return s\n",
        "\n",
        "    result = \"\"\n",
        "    count = 1\n",
        "\n",
        "    for i in range(1, len(s)):\n",
        "        if s[i] == s[i - 1]:\n",
        "            count += 1\n",
        "        else:\n",
        "            result += s[i - 1] + str(count)\n",
        "            count = 1\n",
        "\n",
        "    # Add last character group\n",
        "    result += s[-1] + str(count)\n",
        "\n",
        "    return result if len(result) < len(s) else s\n",
        "\n",
        "# Complexity : O(N²)"
      ],
      "metadata": {
        "id": "3tTVk-S0njn-"
      },
      "execution_count": 1,
      "outputs": []
    },
    {
      "cell_type": "markdown",
      "source": [
        "# Improved solution : Plan / Pseudocode\n",
        "\n",
        "1. If the string is empty or has only 1 character → return the string.\n",
        "2. Initialize:\n",
        "    - `compressed` as an empty list.\n",
        "    - `count = 1`\n",
        " 3. Loop from index 1 to end of string:\n",
        "    - If current char == previous → increment `count`\n",
        "    - Else → append previous char + count, reset count to 1\n",
        " 4. Append the last character group\n",
        " 5. Join `compressed` into a string\n",
        " 6. Return the compressed string **only if it's shorter** than the original"
      ],
      "metadata": {
        "id": "vpqlVC2MJKTb"
      }
    },
    {
      "cell_type": "code",
      "source": [
        "\n",
        "\n",
        "\n",
        "def compress_string(s):\n",
        "    if len(s) <= 1:\n",
        "        return s\n",
        "\n",
        "    compressed = []\n",
        "    count = 1\n",
        "\n",
        "    for i in range(1, len(s)):\n",
        "        if s[i] == s[i - 1]:\n",
        "            count += 1\n",
        "        else:\n",
        "            compressed.append(s[i - 1] + str(count))\n",
        "            count = 1\n",
        "\n",
        "    # Handle last group\n",
        "    compressed.append(s[-1] + str(count))\n",
        "\n",
        "    result = ''.join(compressed)\n",
        "    return result if len(result) < len(s) else s\n",
        "\n",
        "# Complexity : O(N)"
      ],
      "metadata": {
        "id": "-rAN3h7THRNT"
      },
      "execution_count": null,
      "outputs": []
    }
  ]
}